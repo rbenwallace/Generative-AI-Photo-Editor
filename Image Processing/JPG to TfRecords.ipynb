{
 "cells": [
  {
   "cell_type": "code",
   "execution_count": 1,
   "id": "d210b6a3",
   "metadata": {},
   "outputs": [],
   "source": [
    "import matplotlib.pyplot as plt\n",
    "import tensorflow as tf\n",
    "import numpy as np\n",
    "import os\n",
    "import io\n",
    "from PIL import Image\n",
    "\n",
    "def _bytes_feature(value):\n",
    "    \"\"\"Returns a bytes_list from a string / byte.\"\"\"\n",
    "    if isinstance(value, type(tf.constant(0))):\n",
    "        value = value.numpy() # BytesList won't unpack a string from an EagerTensor.\n",
    "    return tf.train.Feature(bytes_list=tf.train.BytesList(value=[value]))\n",
    "\n",
    "def _int64_feature(value):\n",
    "    \"\"\"Returns an int64_list from a bool / enum / int / uint.\"\"\"\n",
    "    return tf.train.Feature(int64_list=tf.train.Int64List(value=[value]))\n",
    "\n",
    "# Create a dictionary with features that may be relevant.\n",
    "def image_example(image_string):\n",
    "    image_shape = tf.io.decode_jpeg(image_string).shape\n",
    "    feature = {\n",
    "        'height': _int64_feature(image_shape[0]),\n",
    "        'width': _int64_feature(image_shape[1]),\n",
    "        'depth': _int64_feature(image_shape[2]),\n",
    "        'image_raw': _bytes_feature(image_string),\n",
    "    }\n",
    "    return tf.train.Example(features=tf.train.Features(feature=feature))\n",
    "\n",
    "def _parse_image_function(example_proto, image_feature_description):\n",
    "    return tf.io.parse_single_example(example_proto, image_feature_description)\n",
    "        \n",
    "def load_resize_compress_image(image_path, target_size=(512, 512), quality=95):\n",
    "    # Load image\n",
    "    with open(image_path, 'rb') as f:\n",
    "        img_data = f.read()\n",
    "    image = Image.open(io.BytesIO(img_data))\n",
    "    # Resize image\n",
    "    resized_image = image.resize(target_size, resample=Image.LANCZOS)\n",
    "    # Compress as JPEG\n",
    "    output_image = io.BytesIO()\n",
    "    resized_image.save(output_image, format='JPEG', quality=quality)\n",
    "    output_image.seek(0)\n",
    "    compressed_data = output_image.getvalue()\n",
    "    return compressed_data\n",
    "\n",
    "def convert_to_tfrecord(images_dir, output_path, display_count=False):\n",
    "    counter=0\n",
    "    writer = tf.io.TFRecordWriter(output_path)\n",
    "    for filename in os.listdir(images_dir):\n",
    "        if filename.endswith('.jpg'):\n",
    "            image_path = os.path.join(images_dir, filename)\n",
    "            compressed_image = load_resize_compress_image(image_path)\n",
    "            tf_example = image_example(compressed_image)\n",
    "            writer.write(tf_example.SerializeToString())\n",
    "            if display_count is True:\n",
    "                counter+=1\n",
    "                print(counter)\n",
    "    writer.close()\n",
    "\n",
    "# Plotting the images from tfrecord file\n",
    "def plot_img_from_TFRecord(PATH, file_name):\n",
    "    raw_image_dataset = tf.data.TFRecordDataset(PATH+file_name)\n",
    "    image_feature_description = {\n",
    "        'height': tf.io.FixedLenFeature([], tf.int64),\n",
    "        'width': tf.io.FixedLenFeature([], tf.int64),\n",
    "        'depth': tf.io.FixedLenFeature([], tf.int64),\n",
    "        'image_raw': tf.io.FixedLenFeature([], tf.string),\n",
    "    }\n",
    "    parsed_image_dataset = raw_image_dataset.map(lambda x: _parse_image_function(x, image_feature_description))\n",
    "    for image_features in parsed_image_dataset:\n",
    "        image_raw = image_features['image_raw'].numpy()\n",
    "        image = tf.image.decode_jpeg(image_raw)\n",
    "        plt.imshow(image)\n",
    "        plt.axis('off')\n",
    "        plt.show()"
   ]
  },
  {
   "cell_type": "code",
   "execution_count": 2,
   "id": "60799f2b",
   "metadata": {},
   "outputs": [
    {
     "name": "stdout",
     "output_type": "stream",
     "text": [
      "1\n",
      "2\n",
      "3\n",
      "4\n",
      "5\n",
      "6\n",
      "7\n",
      "8\n"
     ]
    }
   ],
   "source": [
    "images_dir = \"\" # Path to JPGs\n",
    "output_path = \"\" # output path\n",
    "file_name = 'test_images.tfrecord'\n",
    "convert_to_tfrecord(images_dir, output_path+file_name, True)"
   ]
  },
  {
   "cell_type": "code",
   "execution_count": null,
   "id": "ab895a48",
   "metadata": {},
   "outputs": [],
   "source": []
  }
 ],
 "metadata": {
  "kernelspec": {
   "display_name": "Python [conda env:MLgpu] *",
   "language": "python",
   "name": "conda-env-MLgpu-py"
  },
  "language_info": {
   "codemirror_mode": {
    "name": "ipython",
    "version": 3
   },
   "file_extension": ".py",
   "mimetype": "text/x-python",
   "name": "python",
   "nbconvert_exporter": "python",
   "pygments_lexer": "ipython3",
   "version": "3.10.13"
  }
 },
 "nbformat": 4,
 "nbformat_minor": 5
}
